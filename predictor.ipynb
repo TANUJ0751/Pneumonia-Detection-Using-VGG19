{
 "cells": [
  {
   "cell_type": "code",
   "execution_count": 1,
   "id": "a1d5e35e-b787-4e7d-89eb-2270c360df96",
   "metadata": {},
   "outputs": [
    {
     "name": "stdout",
     "output_type": "stream",
     "text": [
      "\u001b[1m1/1\u001b[0m \u001b[32m━━━━━━━━━━━━━━━━━━━━\u001b[0m\u001b[37m\u001b[0m \u001b[1m0s\u001b[0m 399ms/step\n",
      "Pneumonia Detected\n"
     ]
    }
   ],
   "source": [
    "from tensorflow.keras.models import load_model\n",
    "from tensorflow.keras.preprocessing.image import load_img, img_to_array\n",
    "import numpy as np\n",
    "\n",
    "# Load the saved model\n",
    "model = load_model('vgg19.keras')\n",
    "\n",
    "# Load and preprocess the image\n",
    "img_path = 'test_image.jpeg'  # Replace with the path to your image\n",
    "img = load_img(img_path, target_size=(224, 224))  # Resize to 224x224\n",
    "img_array = img_to_array(img)  # Convert to array\n",
    "img_array = np.expand_dims(img_array, axis=0)  # Add batch dimension (1, 224, 224, 3)\n",
    "img_array /= 255.0  # Normalize pixel values\n",
    "\n",
    "# Make the prediction\n",
    "prediction = model.predict(img_array)\n",
    "\n",
    "# Interpret the prediction\n",
    "if prediction[0] > 0.5:\n",
    "    print(\"Pneumonia Detected\")\n",
    "else:\n",
    "    print(\"Normal\")\n"
   ]
  }
 ],
 "metadata": {
  "kernelspec": {
   "display_name": "Python [conda env:base] *",
   "language": "python",
   "name": "conda-base-py"
  },
  "language_info": {
   "codemirror_mode": {
    "name": "ipython",
    "version": 3
   },
   "file_extension": ".py",
   "mimetype": "text/x-python",
   "name": "python",
   "nbconvert_exporter": "python",
   "pygments_lexer": "ipython3",
   "version": "3.12.7"
  }
 },
 "nbformat": 4,
 "nbformat_minor": 5
}
